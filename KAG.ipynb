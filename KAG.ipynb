{
 "cells": [
  {
   "cell_type": "markdown",
   "id": "cc371945",
   "metadata": {},
   "source": [
    "## Setup and Test Neo4j Connection"
   ]
  },
  {
   "cell_type": "code",
   "execution_count": 5,
   "id": "5797e5e1",
   "metadata": {},
   "outputs": [],
   "source": [
    "from py2neo import Graph\n",
    "graph = Graph(\"neo4j://127.0.0.1:7687\", auth=(\"neo4j\", \"testpassword\"))"
   ]
  },
  {
   "cell_type": "code",
   "execution_count": 6,
   "id": "4c3a13c4",
   "metadata": {},
   "outputs": [
    {
     "name": "stdout",
     "output_type": "stream",
     "text": [
      "[{'message': 'Hello from Neo4j!'}]\n"
     ]
    }
   ],
   "source": [
    "from py2neo import Graph\n",
    "\n",
    "# Connect to the local Neo4j database\n",
    "graph = Graph(\"neo4j://127.0.0.1:7687\", auth=(\"neo4j\", \"testpassword\"))\n",
    "\n",
    "# Run a test query\n",
    "result = graph.run(\"RETURN 'Hello from Neo4j!' AS message\").data()\n",
    "print(result)"
   ]
  },
  {
   "cell_type": "markdown",
   "id": "c2c7e910",
   "metadata": {},
   "source": [
    "Connected!"
   ]
  },
  {
   "cell_type": "markdown",
   "id": "60e49b04",
   "metadata": {},
   "source": [
    "## Quick check on the DataSet"
   ]
  },
  {
   "cell_type": "code",
   "execution_count": 7,
   "id": "b86d7af0",
   "metadata": {},
   "outputs": [
    {
     "name": "stdout",
     "output_type": "stream",
     "text": [
      "      PO_ID         Supplier  Order_Date Delivery_Date    Item_Category  \\\n",
      "0  PO-00001        Alpha_Inc  2023-10-17    2023-10-25  Office Supplies   \n",
      "1  PO-00002  Delta_Logistics  2022-04-25    2022-05-05  Office Supplies   \n",
      "2  PO-00003         Gamma_Co  2022-01-26    2022-02-15              MRO   \n",
      "3  PO-00004    Beta_Supplies  2022-10-09    2022-10-28        Packaging   \n",
      "4  PO-00005  Delta_Logistics  2022-09-08    2022-09-20    Raw Materials   \n",
      "\n",
      "  Order_Status  Quantity  Unit_Price  Negotiated_Price  Defective_Units  \\\n",
      "0    Cancelled      1176       20.13             17.81              NaN   \n",
      "1    Delivered      1509       39.32             37.34            235.0   \n",
      "2    Delivered       910       95.51             92.26             41.0   \n",
      "3    Delivered      1344       99.85             95.52            112.0   \n",
      "4    Delivered      1180       64.07             60.53            171.0   \n",
      "\n",
      "  Compliance  \n",
      "0        Yes  \n",
      "1        Yes  \n",
      "2        Yes  \n",
      "3        Yes  \n",
      "4         No  \n"
     ]
    }
   ],
   "source": [
    "import pandas as pd\n",
    "\n",
    "# Load the procurement dataset\n",
    "df = pd.read_csv(\"Procurement KPI Analysis Dataset.csv\")\n",
    "\n",
    "# View the first few rows\n",
    "print(df.head())"
   ]
  },
  {
   "cell_type": "code",
   "execution_count": 12,
   "id": "e6640ce6",
   "metadata": {},
   "outputs": [
    {
     "name": "stdout",
     "output_type": "stream",
     "text": [
      "['PO_ID', 'Supplier', 'Order_Date', 'Delivery_Date', 'Item_Category', 'Order_Status', 'Quantity', 'Unit_Price', 'Negotiated_Price', 'Defective_Units', 'Compliance']\n"
     ]
    }
   ],
   "source": [
    "print(df.columns.tolist())"
   ]
  },
  {
   "cell_type": "markdown",
   "id": "a3ca1702",
   "metadata": {},
   "source": [
    "## Import Required Libraries and Connect to Neo4j\n",
    "\n",
    "Before we build the knowledge graph, we need to import the necessary libraries and connect to a local Neo4j database. Make sure Neo4j is running and your credentials are correct.\n"
   ]
  },
  {
   "cell_type": "code",
   "execution_count": null,
   "id": "9e5c3cf0",
   "metadata": {},
   "outputs": [],
   "source": [
    "import ast  # For safely evaluating stringified lists of tuples\n",
    "from py2neo import Graph, Node, Relationship  # To interact with Neo4j graph\n",
    "\n",
    "# Connect to your running Neo4j database instance\n",
    "graph = Graph(\"neo4j://localhost:7687\", auth=(\"neo4j\", \"testpassword\"))"
   ]
  },
  {
   "cell_type": "markdown",
   "id": "0232efc8",
   "metadata": {},
   "source": [
    "## Define the Graph Construction Function\n",
    "This function takes GPT's response (a string of triples), parses it, and constructs nodes and relationships inside the Neo4j graph. Each triple is expected to follow the (subject, predicate, object) structure."
   ]
  },
  {
   "cell_type": "code",
   "execution_count": null,
   "id": "6873ad26",
   "metadata": {},
   "outputs": [],
   "source": [
    "def build_graph_from_gpt_response(gpt_response):\n",
    "    try:\n",
    "        # Safely parse the GPT response (which is a string of list of tuples)\n",
    "        triples = ast.literal_eval(gpt_response)\n",
    "    except Exception as e:\n",
    "        print(\"Parsing Error:\", e)\n",
    "        return  # Exit if the format is incorrect\n",
    "\n",
    "    for triple in triples:\n",
    "        # Ensure the triple is valid and contains exactly 3 items\n",
    "        if len(triple) != 3:\n",
    "            continue\n",
    "\n",
    "        # Strip and convert all parts to string (to avoid TypeErrors)\n",
    "        subject, predicate, obj = [str(x).strip() for x in triple]\n",
    "\n",
    "        # Create graph nodes for subject and object\n",
    "        subj_node = Node(\"Entity\", name=subject)\n",
    "        obj_node = Node(\"Entity\", name=obj)\n",
    "\n",
    "        # Create the relationship between the nodes\n",
    "        relationship = Relationship(subj_node, predicate, obj_node)\n",
    "\n",
    "        # Merge ensures no duplicates; updates if nodes/edges exist\n",
    "        graph.merge(subj_node, \"Entity\", \"name\")\n",
    "        graph.merge(obj_node, \"Entity\", \"name\")\n",
    "        graph.merge(relationship)"
   ]
  },
  {
   "cell_type": "markdown",
   "id": "15a56818",
   "metadata": {},
   "source": [
    "## Import OpenAI and Load Dataset\n",
    "We'll use the OpenAI API to extract structured knowledge from rows in the procurement CSV dataset. We’re using a Procurement KPI Analysis Dataset because it includes product, supplier, pricing, and compliance information. "
   ]
  },
  {
   "cell_type": "code",
   "execution_count": null,
   "id": "8d19d4de",
   "metadata": {},
   "outputs": [],
   "source": [
    "import pandas as pd\n",
    "from openai import OpenAI  # Ensure you've installed the OpenAI package\n",
    "\n",
    "# Initialize OpenAI client with your API key\n",
    "client = OpenAI(api_key=\"OPENAI_API_KEY\")  # 🔐 Replace with your actual API key\n",
    "\n",
    "# Load the Procurement KPI Analysis Dataset\n",
    "df = pd.read_csv(\"Procurement KPI Analysis Dataset.csv\")"
   ]
  },
  {
   "cell_type": "markdown",
   "id": "bdf6ad21",
   "metadata": {},
   "source": [
    "## Loop Over a Few Rows and Send Them to GPT\n",
    "We'll use GPT to extract subject-predicate-object triples from 3 sample rows in the dataset. Once you confirm that it's working, you can increase the number of rows."
   ]
  },
  {
   "cell_type": "code",
   "execution_count": null,
   "id": "1a2a1860",
   "metadata": {},
   "outputs": [],
   "source": [
    "# Loop through the first 3 rows of the dataset\n",
    "for i in range(3):\n",
    "    # Extract a single row of structured purchase order data\n",
    "    row = df.iloc[i]\n",
    "\n",
    "    # Format a prompt to send to OpenAI for triple extraction\n",
    "    prompt = f\"\"\"\n",
    "    Extract subject-predicate-object triples from the following purchase order:\n",
    "\n",
    "    Supplier: {row['Supplier']}\n",
    "    Item Category: {row['Item_Category']}\n",
    "    Quantity: {row['Quantity']}\n",
    "    Unit Price: {row['Unit_Price']}\n",
    "    Order Status: {row['Order_Status']}\n",
    "    Compliance: {row['Compliance']}\n",
    "\n",
    "    Return the triples as a Python list of tuples.\n",
    "    \"\"\"\n",
    "\n",
    "    # Call the OpenAI GPT API to get structured triples\n",
    "    response = client.chat.completions.create(\n",
    "        model=\"gpt-3.5-turbo\",  # You can switch to GPT-4 for higher quality\n",
    "        messages=[{\"role\": \"user\", \"content\": prompt}],\n",
    "        temperature=0  # Keep temperature low for deterministic output\n",
    "    )\n",
    "\n",
    "    # Extract and clean up GPT's output\n",
    "    content = response.choices[0].message.content.strip()\n",
    "    print(f\"Triples from row {i}:\\n\", content)\n",
    "\n",
    "    # Pass the GPT output to our graph builder function\n",
    "    build_graph_from_gpt_response(content)"
   ]
  },
  {
   "cell_type": "markdown",
   "id": "dacc02b6",
   "metadata": {},
   "source": [
    "## Visualizing the results in Neo4j Desktop\n",
    "Go to Neo4j Desktop and click on Query. Let’s confirm node and relationship creation in Neo4j.\n",
    "You can do this by running this cypher:\n",
    "\n",
    "\n",
    "`MATCH (n) RETURN COUNT(n);`\n",
    "\n",
    "You should see a number > 0 in this case, we have 7\n",
    "\n",
    "If you want to check for a sample, run this cypher\n",
    "\n",
    "`MATCH (a)-[r]->(b) RETURN a.name, type(r), b.name LIMIT 10;`\n",
    "\n",
    "To see the entire graph visualized: entities as circles, relationships as arrows, run this cypher:\n",
    "\n",
    "`MATCH (n)-[r]->(m) RETURN n, r, m LIMIT 100`"
   ]
  },
  {
   "cell_type": "markdown",
   "id": "f642f547",
   "metadata": {},
   "source": [
    "## Measuring Knowledge Graph Quality?\n",
    "Building a knowledge graph is great. But how do you know if it’s actually any good?\n",
    "This is where a lot of beginner AI engineers hit a wall. The graph looks fine, maybe even visualizes nicely in Neo4j, but under the hood, it could be missing key connections, introducing wrong relationships, or lacking coverage. And if you're plugging that graph into a retrieval-augmented generation (RAG) system, a weak graph means weak answers.\n"
   ]
  },
  {
   "cell_type": "markdown",
   "id": "17c897f9",
   "metadata": {},
   "source": [
    "## Coverage\n",
    "Coverage refers to how much of the actual data your graph managed to capture in the form of nodes and edges. If your dataset contains 100 suppliers but only 40 show up as nodes in the graph, you're leaving insight on the table.\n",
    "You can calculate this manually by comparing the number of entities/relations in your source data versus the ones that made it into the graph.\n"
   ]
  },
  {
   "cell_type": "code",
   "execution_count": null,
   "id": "20783db4",
   "metadata": {},
   "outputs": [],
   "source": [
    "num_suppliers_csv = df['Supplier'].nunique()\n",
    "num_suppliers_kg = graph.run(\"MATCH (n:Entity) RETURN count(distinct n.name)\").data()[0]['count(distinct n.name)']\n",
    "print(f\"CSV Suppliers: {num_suppliers_csv}, Graph Nodes: {num_suppliers_kg}\")"
   ]
  },
  {
   "cell_type": "markdown",
   "id": "75f78496",
   "metadata": {},
   "source": [
    "## Accuracy\n",
    "Accuracy means the relationships in the graph are actually correct. For instance, if “Delta Logistics” is shown supplying “Office Supplies” when they really supply “IT Equipment,” that’s a faulty edge.\n",
    "To check for accuracy, spot-check your triples. A good practice is to manually review a subset of extracted triples and compare them with the original row in the dataset. If you’ve extracted 10 triples from GPT, verify if each subject-predicate-object makes sense contextually.\n"
   ]
  },
  {
   "cell_type": "code",
   "execution_count": null,
   "id": "0e45655c",
   "metadata": {},
   "outputs": [],
   "source": [
    "sample_check = graph.run(\"\"\"\n",
    "MATCH (a:Entity)-[r]->(b:Entity)\n",
    "RETURN a.name AS subject, type(r) AS relation, b.name AS object\n",
    "LIMIT 10\n",
    "\"\"\").to_data_frame()\n",
    "\n",
    "print(sample_check)\n",
    "\n"
   ]
  },
  {
   "cell_type": "markdown",
   "id": "b53d6837",
   "metadata": {},
   "source": [
    "## Completeness\n",
    "A graph can be accurate and still incomplete. Completeness checks whether all relevant connections were extracted and represented.\n",
    "Checking this is trickier because it often involves domain knowledge. For example, if your business rule says every supplier must have a “compliance” rating, but your graph has some suppliers without any compliance edges, you’ve got gaps.\n"
   ]
  },
  {
   "cell_type": "code",
   "execution_count": null,
   "id": "b8250107",
   "metadata": {},
   "outputs": [],
   "source": [
    "# Find suppliers without compliance links\n",
    "query = \"\"\"\n",
    "MATCH (s:Entity)\n",
    "WHERE NOT (s)-[:Compliance]->()\n",
    "RETURN s.name\n",
    "\"\"\"\n",
    "missing_compliance = graph.run(query).to_data_frame()\n",
    "print(missing_compliance)"
   ]
  },
  {
   "cell_type": "markdown",
   "id": "c18a7793",
   "metadata": {},
   "source": [
    "## Evaluation\n",
    "### How Good Is the Knowledge Graph We Built?\n",
    "Now that you've built our graph using Neo4j and GPT-generated triples, we can test it in real time. Using this code: \n"
   ]
  },
  {
   "cell_type": "code",
   "execution_count": null,
   "id": "86f5852f",
   "metadata": {},
   "outputs": [],
   "source": [
    "# What % of suppliers in CSV have at least one edge in the graph?\n",
    "total_suppliers = df['Supplier'].nunique()\n",
    "\n",
    "query = \"\"\"\n",
    "MATCH (s:Entity)\n",
    "WHERE EXISTS {\n",
    " MATCH (s)-[]->()\n",
    "}\n",
    "RETURN count(DISTINCT s.name) AS linked_suppliers\n",
    "\"\"\"\n",
    "\n",
    "linked_suppliers = graph.run(query).data()[0]['linked_suppliers']\n",
    "coverage_percent = (linked_suppliers / total_suppliers) * 100\n",
    "\n",
    "print(f\"Supplier Node Coverage: {coverage_percent:.2f}%\")"
   ]
  },
  {
   "cell_type": "markdown",
   "id": "53e6a5eb",
   "metadata": {},
   "source": []
  }
 ],
 "metadata": {
  "kernelspec": {
   "display_name": "Python 3",
   "language": "python",
   "name": "python3"
  },
  "language_info": {
   "codemirror_mode": {
    "name": "ipython",
    "version": 3
   },
   "file_extension": ".py",
   "mimetype": "text/x-python",
   "name": "python",
   "nbconvert_exporter": "python",
   "pygments_lexer": "ipython3",
   "version": "3.12.7"
  }
 },
 "nbformat": 4,
 "nbformat_minor": 5
}

{
 "cells": [
  {
   "cell_type": "code",
   "execution_count": null,
   "id": "db9e216e",
   "metadata": {},
   "outputs": [
    {
     "name": "stdout",
     "output_type": "stream",
     "text": [
      "Triples for row 0: [\n",
      "  (\"Alpha_Inc\", \"supplies\", \"Office Supplies\"),\n",
      "  (\"Office Supplies\", \"has_quantity\", \"1176\"),\n",
      "  (\"Office Supplies\", \"has_price\", \"20.13\"),\n",
      "  (\"Office Supplies\", \"has_status\", \"Cancelled\"),\n",
      "  (\"Office Supplies\", \"is_compliant\", \"Yes\")\n",
      "]\n",
      "Triples for row 1: [\n",
      "  (\"Delta_Logistics\", \"supplies\", \"Office Supplies\"),\n",
      "  (\"Office Supplies\", \"has_quantity\", \"1509\"),\n",
      "  (\"Office Supplies\", \"has_price\", \"39.32\"),\n",
      "  (\"Office Supplies\", \"order_status\", \"Delivered\"),\n",
      "  (\"Office Supplies\", \"compliance\", \"Yes\")\n",
      "]\n",
      "Triples for row 2: [\n",
      "  (\"Gamma_Co\", \"supplies\", \"MRO\"),\n",
      "  (\"MRO\", \"has_quantity\", \"910\"),\n",
      "  (\"MRO\", \"has_price\", \"95.51\"),\n",
      "  (\"MRO\", \"order_status\", \"Delivered\"),\n",
      "  (\"MRO\", \"compliance\", \"Yes\")\n",
      "]\n",
      "Triples for row 3: [\n",
      "  (\"Beta_Supplies\", \"supplies\", \"Packaging\"),\n",
      "  (\"Packaging\", \"has_quantity\", \"1344\"),\n",
      "  (\"Packaging\", \"has_price\", \"99.85\"),\n",
      "  (\"Packaging\", \"order_status\", \"Delivered\"),\n",
      "  (\"Packaging\", \"compliance\", \"Yes\")\n",
      "]\n",
      "Triples for row 4: [\n",
      "  (\"Delta_Logistics\", \"supplies\", \"Raw Materials\"),\n",
      "  (\"Raw Materials\", \"has_quantity\", \"1180\"),\n",
      "  (\"Raw Materials\", \"has_price\", \"64.07\"),\n",
      "  (\"Raw Materials\", \"has_status\", \"Delivered\"),\n",
      "  (\"Raw Materials\", \"is_compliant\", \"No\")\n",
      "]\n",
      "Compliant suppliers of Raw Materials: []\n",
      "No compliant suppliers found for Raw Materials.\n"
     ]
    }
   ],
   "source": [
    "# --- Step 1: Install Required Libraries ---\n",
    "# pip install openai py2neo pandas\n",
    "\n",
    "# --- Step 2: Connect to Neo4j ---\n",
    "from py2neo import Graph, Node, Relationship\n",
    "import ast\n",
    "\n",
    "graph = Graph(\"neo4j://localhost:7687\", auth=(\"neo4j\", \"testpassword\"))\n",
    "\n",
    "# --- Step 3: Define Graph Building Function ---\n",
    "def build_graph_from_gpt_response(response_text):\n",
    "    try:\n",
    "        triples = ast.literal_eval(response_text)\n",
    "    except Exception as e:\n",
    "        print(\"Parsing Error:\", e)\n",
    "        return\n",
    "\n",
    "    for triple in triples:\n",
    "        if len(triple) != 3:\n",
    "            continue\n",
    "        subject, predicate, obj = [str(x).strip() for x in triple]\n",
    "        subj_node = Node(\"Entity\", name=subject)\n",
    "        obj_node = Node(\"Entity\", name=obj)\n",
    "        rel = Relationship(subj_node, predicate, obj_node)\n",
    "        graph.merge(subj_node, \"Entity\", \"name\")\n",
    "        graph.merge(obj_node, \"Entity\", \"name\")\n",
    "        graph.merge(rel)\n",
    "\n",
    "# --- Step 4: Load Dataset and OpenAI Client ---\n",
    "import pandas as pd\n",
    "from openai import OpenAI\n",
    "\n",
    "df = pd.read_csv(\"Procurement KPI Analysis Dataset.csv\")\n",
    "client = OpenAI(api_key=\"API_KEY_HERE\")  # Replace with your OpenAI API key\n",
    "\n",
    "# --- Step 5: Generate Triples and Build Graph ---\n",
    "for i in range(5):  # use more rows later\n",
    "    row = df.iloc[i]\n",
    "    prompt = f\"\"\"\n",
    "Extract subject-predicate-object triples from the following structured purchase order. Return the result as a valid Python list of 3-item tuples. Use proper literals — avoid vague terms like 'N/A'.\n",
    "\n",
    "Example format:\n",
    "[\n",
    "  (\"Delta Logistics\", \"supplies\", \"Raw Materials\"),\n",
    "  (\"Raw Materials\", \"has_quantity\", \"1180\"),\n",
    "  (\"Raw Materials\", \"has_price\", \"64.07\"),\n",
    "  ...\n",
    "]\n",
    "\n",
    "Purchase Order:\n",
    "Supplier: {row['Supplier']}\n",
    "Item Category: {row['Item_Category']}\n",
    "Quantity: {row['Quantity']}\n",
    "Unit Price: {row['Unit_Price']}\n",
    "Order Status: {row['Order_Status']}\n",
    "Compliance: {row['Compliance']}\n",
    "\"\"\"\n",
    "\n",
    "    response = client.chat.completions.create(\n",
    "        model=\"gpt-3.5-turbo\",\n",
    "        messages=[{\"role\": \"user\", \"content\": prompt}],\n",
    "        temperature=0\n",
    "    )\n",
    "    content = response.choices[0].message.content.strip()\n",
    "    print(f\"Triples for row {i}:\", content)\n",
    "    build_graph_from_gpt_response(content)\n",
    "\n",
    "# --- Step 6: Querying the Knowledge Graph for RAG ---\n",
    "# Example: Who supplies raw materials and is compliant?\n",
    "\n",
    "question_query = \"\"\"\n",
    "MATCH (s:Entity)-[:supplies]->(c:Entity {name: \"Raw Materials\"})\n",
    "MATCH (s)-[:Compliance]->(status:Entity {name: \"Yes\"})\n",
    "RETURN s.name AS supplier\n",
    "\"\"\"\n",
    "\n",
    "suppliers = graph.run(question_query).data()\n",
    "print(\"Compliant suppliers of Raw Materials:\", suppliers)\n",
    "\n",
    "# --- Step 7: Generate Natural Language Answer ---\n",
    "def format_answer(suppliers):\n",
    "    if not suppliers:\n",
    "        return \"No compliant suppliers found for Raw Materials.\"\n",
    "    names = [s[\"supplier\"] for s in suppliers]\n",
    "    return f\"The following compliant suppliers provide Raw Materials: {', '.join(names)}.\"\n",
    "\n",
    "print(format_answer(suppliers))\n"
   ]
  },
  {
   "cell_type": "markdown",
   "id": "53caf5d8",
   "metadata": {},
   "source": [
    "### Coverage"
   ]
  },
  {
   "cell_type": "code",
   "execution_count": 2,
   "id": "07bfee1c",
   "metadata": {},
   "outputs": [
    {
     "name": "stdout",
     "output_type": "stream",
     "text": [
      "Supplier Node Coverage: 80.00%\n"
     ]
    }
   ],
   "source": [
    "# Total number of unique suppliers in the CSV\n",
    "total_suppliers = df['Supplier'].nunique()\n",
    "\n",
    "# How many of those suppliers exist as named nodes in the graph?\n",
    "query = \"\"\"\n",
    "MATCH (s:Entity)\n",
    "WHERE EXISTS {\n",
    "  MATCH (s)-[]->()\n",
    "}\n",
    "AND s.name IN $supplier_list\n",
    "RETURN count(DISTINCT s.name) AS linked_suppliers\n",
    "\"\"\"\n",
    "\n",
    "linked_suppliers = graph.run(query, parameters={\"supplier_list\": df['Supplier'].dropna().unique().tolist()}).data()[0]['linked_suppliers']\n",
    "coverage_percent = (linked_suppliers / total_suppliers) * 100\n",
    "\n",
    "print(f\"Supplier Node Coverage: {coverage_percent:.2f}%\")"
   ]
  },
  {
   "cell_type": "markdown",
   "id": "6836bf96",
   "metadata": {},
   "source": [
    "### Accuracy"
   ]
  },
  {
   "cell_type": "code",
   "execution_count": 3,
   "id": "f4ce672e",
   "metadata": {},
   "outputs": [
    {
     "name": "stdout",
     "output_type": "stream",
     "text": [
      "         subject         relation           object\n",
      "0       Supplier               is        Alpha_Inc\n",
      "1       Supplier               is  Delta_Logistics\n",
      "2       Supplier               is         Gamma_Co\n",
      "3       Supplier        Alpha_Inc                 \n",
      "4       Supplier  Delta_Logistics                 \n",
      "5       Supplier         Gamma_Co                 \n",
      "6  Item Category               is  Office Supplies\n",
      "7  Item Category               is              MRO\n",
      "8  Item Category  Office Supplies                 \n",
      "9  Item Category              MRO                 \n"
     ]
    }
   ],
   "source": [
    "sample_check = graph.run(\"\"\"  \n",
    "MATCH (a:Entity)-[r]->(b:Entity)  \n",
    "RETURN a.name AS subject, type(r) AS relation, b.name AS object  \n",
    "LIMIT 10  \n",
    "\"\"\").to_data_frame()  \n",
    "  \n",
    "print(sample_check)"
   ]
  },
  {
   "cell_type": "markdown",
   "id": "743d2dce",
   "metadata": {},
   "source": [
    "### Completeness"
   ]
  },
  {
   "cell_type": "code",
   "execution_count": 4,
   "id": "e8a0b058",
   "metadata": {},
   "outputs": [
    {
     "name": "stdout",
     "output_type": "stream",
     "text": [
      "  MissingCompliance\n",
      "0         Alpha_Inc\n",
      "1   Delta_Logistics\n",
      "2          Gamma_Co\n",
      "3     Beta_Supplies\n"
     ]
    }
   ],
   "source": [
    "# Find suppliers without compliance links  \n",
    "query = \"\"\"  \n",
    "MATCH (s:Entity)\n",
    "WHERE s.name IN $supplier_list AND NOT (s)-[:Compliance]->()\n",
    "RETURN s.name AS MissingCompliance\n",
    "\"\"\"  \n",
    "\n",
    "missing_compliance = graph.run(query, parameters={\"supplier_list\": df['Supplier'].dropna().unique().tolist()}).to_data_frame()  \n",
    "print(missing_compliance)"
   ]
  },
  {
   "cell_type": "markdown",
   "id": "0b21b755",
   "metadata": {},
   "source": [
    "### How Good Is the Knowledge Graph We Built?"
   ]
  },
  {
   "cell_type": "code",
   "execution_count": 5,
   "id": "6c14724c",
   "metadata": {},
   "outputs": [
    {
     "name": "stdout",
     "output_type": "stream",
     "text": [
      "Supplier Node Coverage: 80.00%\n"
     ]
    }
   ],
   "source": [
    "# What % of suppliers in CSV have at least one edge in the graph?  \n",
    "total_suppliers = df['Supplier'].nunique()\n",
    "\n",
    "query = \"\"\"\n",
    "MATCH (s:Entity)\n",
    "WHERE s.name IN $supplier_list\n",
    "AND EXISTS {\n",
    "  MATCH (s)-[]->()\n",
    "}\n",
    "RETURN count(DISTINCT s.name) AS linked_suppliers\n",
    "\"\"\"\n",
    "\n",
    "linked_suppliers = graph.run(query, parameters={\"supplier_list\": df['Supplier'].dropna().unique().tolist()}).data()[0]['linked_suppliers']\n",
    "coverage_percent = (linked_suppliers / total_suppliers) * 100\n",
    "\n",
    "print(f\"Supplier Node Coverage: {coverage_percent:.2f}%\")\n"
   ]
  },
  {
   "cell_type": "code",
   "execution_count": null,
   "id": "9f8ece80",
   "metadata": {},
   "outputs": [],
   "source": []
  }
 ],
 "metadata": {
  "kernelspec": {
   "display_name": "Python 3",
   "language": "python",
   "name": "python3"
  },
  "language_info": {
   "codemirror_mode": {
    "name": "ipython",
    "version": 3
   },
   "file_extension": ".py",
   "mimetype": "text/x-python",
   "name": "python",
   "nbconvert_exporter": "python",
   "pygments_lexer": "ipython3",
   "version": "3.12.7"
  }
 },
 "nbformat": 4,
 "nbformat_minor": 5
}
